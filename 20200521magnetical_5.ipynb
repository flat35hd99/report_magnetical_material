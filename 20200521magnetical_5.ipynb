{
  "nbformat": 4,
  "nbformat_minor": 0,
  "metadata": {
    "colab": {
      "name": "20200521magnetical_5.ipynb",
      "provenance": [],
      "authorship_tag": "ABX9TyOYGC7sZidgyBXWkLkf4Jnj"
    },
    "kernelspec": {
      "name": "python3",
      "display_name": "Python 3"
    }
  },
  "cells": [
    {
      "cell_type": "markdown",
      "metadata": {
        "id": "m9BRdUW0a-ef",
        "colab_type": "text"
      },
      "source": [
        "# 希土類元素の磁性\n",
        "\n",
        "## （１）磁性の起源：磁気モーメント（有効磁子数p<sub>eff</sub>）と全角運動量（J）\n",
        "実験により各希土類元素の有効磁子数 $p_{eff} = g_J\\sqrt{J(J + 1)}$ が常磁性状態のキュリー・ワイス則による解析\n",
        "から得られた。有効磁子数は全て電子の持つ角運動量で決まっている。各希土類元素の4f電子にフント則\n",
        "を適用して各希土類元素のスピン、軌道角運動量、全角運動量について考察し、実験値との比較せよ。"
      ]
    },
    {
      "cell_type": "markdown",
      "metadata": {
        "id": "piJNYd9ba6Vr",
        "colab_type": "text"
      },
      "source": [
        "### 回答\n",
        "フント則で今回調べた6つの希土類元素（Gd, Tb, Dy, Ho, Er, Tm ）のスピン、軌道角運動量、全角運動量を考察する。資料の4f軌道の電子の入り方の図を利用して、求めた。前回までの実験値も最後に記した。\n",
        "\n",
        "|                      | Gd     | Tb     | Dy     | Ho     | Er     | Tm     |\n",
        "|----------------------|--------|--------|--------|--------|--------|--------|\n",
        "| スピン $S$           | 7/2    | 3      | 5/2    | 2      | 3/2    | 1      |\n",
        "| 軌道角運動量 $L$     | 0      | 3      | 5      | 6      | 6      | 5      |\n",
        "| 全角運動量 $J$       | 7/2    | 6      | 15/2   | 8      | 15/2   | 6      |\n",
        "| ランデ因子 $g_J$     | 2      | 3/2    | 4/3    | 5/4    | 6/5    | 7/6    |\n",
        "| 有効磁子数 $p_eff$   | 7.94   | 9.72   | 10.63  | 10.58  | 9.59   | 7.55   |\n",
        "| 有効磁子数（実験値） | 9.0832 | 8.7028 | 9.9797 | 10.409 | 9.2837 | 7.5804 |\n",
        "| キュリー温度 ( K )   | 317    | 239    | 138    | 145    | 20     | 20     |\n",
        "キュリー温度についてはErとTmは文献から持ってきた値である。またHoの値も20 Kという資料が多い。"
      ]
    },
    {
      "cell_type": "markdown",
      "metadata": {
        "id": "NwWuvboeIbps",
        "colab_type": "text"
      },
      "source": [
        "Dy, Ho, Er, Tmについては実験値と理論値が近い値をとっているが、Gd, Tbは近い値とは言えない。これはキュリーワイス則にフィッティングするデータの選び方が目視によって比例関係になっているところの温度を適当に設定していたが、キュリーワイス則はキュリー温度付近であまりいい精度ではないということが関係していると考えられる。"
      ]
    },
    {
      "cell_type": "markdown",
      "metadata": {
        "id": "QB2g25FpWjP6",
        "colab_type": "text"
      },
      "source": [
        ""
      ]
    },
    {
      "cell_type": "markdown",
      "metadata": {
        "id": "6T8YVMGLbCId",
        "colab_type": "text"
      },
      "source": [
        "## （２）磁気秩序：相互作用の大きさと符号\n",
        "\n",
        "各希土類元素の磁気秩序状態から無秩序状態になる温度を調べ、強磁性転移温度（キュリー温度 : $T_C = \\frac{(g_J - 1 ) ^ 2 | J_{eff}|J(J + 1)}{3k_B}$ ）・反強磁性(らせん磁性)転移温度（ネール温度 : $T_N = \\frac{(g_J - 1 ) ^ 2 | J_{eff}|J(J + 1)}{3k_B}$ ）を求めた。また、常磁性状態のキュリー・ワイス則による解析から磁化率が発散する温度（ワイス温度: $ T_\\theta = \\frac{(g_J - 1 ) ^ 2 J_{eff}J(J + 1)}{3k_B} $ ）を求めた。各希土類元素について相転移温度（キュリー温度、ネール温度）と磁化率が発散する温度（ワイス温度）を比較し、現れる磁気秩序について相互作用の大きさと符号の観点から考察せよ。(単純な場合には相転移温度（キュリー温度、ネール温度）は相互作用の大きさに\n",
        "関係し、ワイス温度の符号は相互作用の大きさ・符号と関係している。)"
      ]
    },
    {
      "cell_type": "markdown",
      "metadata": {
        "id": "YMI5wpBSJ8zk",
        "colab_type": "text"
      },
      "source": [
        ""
      ]
    },
    {
      "cell_type": "markdown",
      "metadata": {
        "id": "0a8_vVobbWX1",
        "colab_type": "text"
      },
      "source": [
        "### 回答\n",
        "\n"
      ]
    },
    {
      "cell_type": "markdown",
      "metadata": {
        "id": "7SJ6kOf3K9KB",
        "colab_type": "text"
      },
      "source": [
        ""
      ]
    },
    {
      "cell_type": "markdown",
      "metadata": {
        "id": "RQ3fy82Xb6aJ",
        "colab_type": "text"
      },
      "source": [
        "## （３）相互作用の起源：ダイポール相互作用（電磁気） or 交換相互作用（量子力学）？\n",
        "有効磁子数はGdよりもTb, Dyの方が大きいが、強磁性転移温度・反強磁性(らせん磁性)転移温度はGdが\n",
        "一番高く、電子数が増加するに従って小さくなる。各希土類元素の角運動量の状態を比較し、相転移の温\n",
        "度は全角運動量またはスピンのどちらに依存しているのか調べよ。有効磁子数 $p_{eff} = g_J\\sqrt{J(J + 1)}$ に依存し\n",
        "ている場合はダイポール相互作用、スピンに依存している場合は交換相互作用が主であると考えられる。\n",
        "また、相転移温度（キュリー温度、ネール温度： $T_{C,N} = \\frac{(g_J - 1 ) ^ 2 | J_{eff}|J(J + 1)}{3k_B}$ ）から磁気秩序の原因と\n",
        "なる相互作用 $ \\frac{J_{eff}}{k_B} $ (K) の大きさを求めよ。"
      ]
    },
    {
      "cell_type": "markdown",
      "metadata": {
        "id": "EIH-rHUnhIYT",
        "colab_type": "text"
      },
      "source": [
        "### 回答\n",
        "相転移温度が全角運動量に依存していれば、DyとErのキュリー温度は一致しているはずであるが、明らかな違いがある。一方スピンの方はHoを除いてキュリー温度がスピンの増加関数になっていることから、スピンに依存していると考えられる。  \n",
        "また、相互作用の大きさについては以下のmagnitude_of_interactionである。"
      ]
    },
    {
      "cell_type": "markdown",
      "metadata": {
        "id": "fj2CZiYqVAZ-",
        "colab_type": "text"
      },
      "source": [
        ""
      ]
    },
    {
      "cell_type": "code",
      "metadata": {
        "id": "s8yc8RN-UfcF",
        "colab_type": "code",
        "colab": {}
      },
      "source": [
        "class substance:\n",
        "    name = ''\n",
        "    spin = 0\n",
        "    orbital_angular_momentum = 0\n",
        "    full_angular_momentum = 0\n",
        "    effective_magnetic_number = 0\n",
        "\n",
        "    def __init__(self, name, s, o_a_m, f_a_m, e_m_n, g, t):\n",
        "        self.name = name\n",
        "        self.spin = s\n",
        "        self.orbital_angular_momentum = o_a_m\n",
        "        self.full_angular_momentum = f_a_m\n",
        "        self.effective_magnetic_number = e_m_n\n",
        "        self.magnitude_of_interaction = (3 * t)/(((g-1)**2)* self.full_angular_momentum * (self.full_angular_momentum + 1)**2)\n",
        "\n",
        "    def print_data(self):\n",
        "        print(self.name)\n",
        "        print('S =', self.spin)\n",
        "        print('L =', self.orbital_angular_momentum)\n",
        "        print('J =', self.full_angular_momentum)\n",
        "        # print('g_eff =', self.effective_magnetic_number)\n",
        "        print('magnitude_of_interaction =', self.magnitude_of_interaction)\n",
        "        print('---')"
      ],
      "execution_count": 0,
      "outputs": []
    },
    {
      "cell_type": "code",
      "metadata": {
        "id": "I8BYRUhwYl1d",
        "colab_type": "code",
        "colab": {}
      },
      "source": [
        "Gd = substance('Gd', 7/2, 0, 7/2, 9.0832, 2, 317)\n",
        "Tb = substance('Tb', 3, 3, 6,8.7028, 3/2, 239)\n",
        "Dy = substance('Dy', 5/2, 5, 15/2, 9.9797, 4/3, 138)\n",
        "Ho = substance('Ho', 2, 6, 8, 10.409, 5/4, 145)\n",
        "Er = substance('Er', 3/2, 6, 15/2, 9.2837, 6/5, 20)\n",
        "Tm = substance('Tm', 1, 5, 6, 7.5804, 7/6, 20)"
      ],
      "execution_count": 0,
      "outputs": []
    },
    {
      "cell_type": "code",
      "metadata": {
        "id": "5cMkycaFZtWF",
        "colab_type": "code",
        "colab": {
          "base_uri": "https://localhost:8080/",
          "height": 641
        },
        "outputId": "5dbd7896-a10b-40d9-bb0c-8452286531fc"
      },
      "source": [
        "Gd.print_data()\n",
        "Tb.print_data()\n",
        "Dy.print_data()\n",
        "Ho.print_data()\n",
        "Er.print_data()\n",
        "Tm.print_data()"
      ],
      "execution_count": 7,
      "outputs": [
        {
          "output_type": "stream",
          "text": [
            "Gd\n",
            "S = 3.5\n",
            "L = 0\n",
            "J = 3.5\n",
            "magnitude_of_interaction = 13.417989417989418\n",
            "---\n",
            "Tb\n",
            "S = 3\n",
            "L = 3\n",
            "J = 6\n",
            "magnitude_of_interaction = 9.755102040816327\n",
            "---\n",
            "Dy\n",
            "S = 2.5\n",
            "L = 5\n",
            "J = 7.5\n",
            "magnitude_of_interaction = 6.876124567474052\n",
            "---\n",
            "Ho\n",
            "S = 2\n",
            "L = 6\n",
            "J = 8\n",
            "magnitude_of_interaction = 10.74074074074074\n",
            "---\n",
            "Er\n",
            "S = 1.5\n",
            "L = 6\n",
            "J = 7.5\n",
            "magnitude_of_interaction = 2.7681660899653995\n",
            "---\n",
            "Tm\n",
            "S = 1\n",
            "L = 5\n",
            "J = 6\n",
            "magnitude_of_interaction = 7.346938775510196\n",
            "---\n"
          ],
          "name": "stdout"
        }
      ]
    },
    {
      "cell_type": "markdown",
      "metadata": {
        "id": "Ey1O7VhIbQ-6",
        "colab_type": "text"
      },
      "source": [
        ""
      ]
    }
  ]
}