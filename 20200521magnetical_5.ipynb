{
  "nbformat": 4,
  "nbformat_minor": 0,
  "metadata": {
    "colab": {
      "name": "20200521magnetical_5.ipynb",
      "provenance": [],
      "authorship_tag": "ABX9TyMPwgJ9Re14i8TYCkeuytMn",
      "include_colab_link": true
    },
    "kernelspec": {
      "name": "python3",
      "display_name": "Python 3"
    }
  },
  "cells": [
    {
      "cell_type": "markdown",
      "metadata": {
        "id": "view-in-github",
        "colab_type": "text"
      },
      "source": [
        "<a href=\"https://colab.research.google.com/github/flat35hd99/report_magnetical_material/blob/master/20200521magnetical_5.ipynb\" target=\"_parent\"><img src=\"https://colab.research.google.com/assets/colab-badge.svg\" alt=\"Open In Colab\"/></a>"
      ]
    },
    {
      "cell_type": "markdown",
      "metadata": {
        "id": "m9BRdUW0a-ef",
        "colab_type": "text"
      },
      "source": [
        "# 希土類元素の磁性\n",
        "\n",
        "# （１）磁性の起源：磁気モーメント（有効磁子数p<sub>eff</sub>）と全角運動量（J）\n",
        "実験により各希土類元素の有効磁子数p<sub>eff</sub> = g<sub>J</sub>J(J + 1)が常磁性状態のキュリー・ワイス則による解析\n",
        "から得られた。有効磁子数は全て電子の持つ角運動量で決まっている。各希土類元素の4f電子にフント則\n",
        "を適用して各希土類元素のスピン、軌道角運動量、全角運動量について考察し、実験値との比較せよ。"
      ]
    },
    {
      "cell_type": "markdown",
      "metadata": {
        "id": "piJNYd9ba6Vr",
        "colab_type": "text"
      },
      "source": [
        "# 回答"
      ]
    },
    {
      "cell_type": "markdown",
      "metadata": {
        "id": "6T8YVMGLbCId",
        "colab_type": "text"
      },
      "source": [
        "# （２）磁気秩序：相互作用の大きさと符号\n",
        "\n",
        ">各希土類元素の磁気秩序状態から無秩序状態になる温度を調べ、強磁性転移温度（キュリー温度 : 𝑇C =\n",
        "𝑔𝐽 − 1 2 𝐽eff 𝐽(𝐽 + 1)/3𝑘B）・反強磁性(らせん磁性)転移温度（ネール温度 : 𝑇N = 𝑔𝐽 − 1 2 𝐽eff 𝐽(𝐽 +\n",
        "1)/3𝑘B）を求めた。また、常磁性状態のキュリー・ワイス則による解析から磁化率が発散する温度（ワイス\n",
        "温度: 𝑇𝜃 = 𝑔𝐽 − 1 2𝐽eff𝐽(𝐽 + 1)/3𝑘B）を求めた。各希土類元素について相転移温度（キュリー温度、ネー\n",
        "ル温度）と磁化率が発散する温度（ワイス温度）を比較し、現れる磁気秩序について相互作用の大きさと符\n",
        "号の観点から考察せよ。(単純な場合には相転移温度（キュリー温度、ネール温度）は相互作用の大きさに\n",
        "関係し、ワイス温度の符号は相互作用の大きさ・符号と関係している。)"
      ]
    },
    {
      "cell_type": "markdown",
      "metadata": {
        "id": "0a8_vVobbWX1",
        "colab_type": "text"
      },
      "source": [
        "## 回答"
      ]
    },
    {
      "cell_type": "markdown",
      "metadata": {
        "id": "Ey1O7VhIbQ-6",
        "colab_type": "text"
      },
      "source": [
        ""
      ]
    }
  ]
}