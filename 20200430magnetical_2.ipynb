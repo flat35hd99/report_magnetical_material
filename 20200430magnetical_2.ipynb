{
  "nbformat": 4,
  "nbformat_minor": 0,
  "metadata": {
    "colab": {
      "name": "20200430magnetical_2.ipynb",
      "provenance": [],
      "toc_visible": true,
      "authorship_tag": "ABX9TyMhJaeRYEw8BD+JYO4T6hRT",
      "include_colab_link": true
    },
    "kernelspec": {
      "name": "python3",
      "display_name": "Python 3"
    }
  },
  "cells": [
    {
      "cell_type": "markdown",
      "metadata": {
        "id": "view-in-github",
        "colab_type": "text"
      },
      "source": [
        "<a href=\"https://colab.research.google.com/github/flat35hd99/report_magnetical_material/blob/master/20200430magnetical_2.ipynb\" target=\"_parent\"><img src=\"https://colab.research.google.com/assets/colab-badge.svg\" alt=\"Open In Colab\"/></a>"
      ]
    },
    {
      "cell_type": "markdown",
      "metadata": {
        "id": "Yu_i0OA5XV9K",
        "colab_type": "text"
      },
      "source": [
        "#問題（1）\n",
        "室温におけるNiの磁化の磁場依存性の測定データを使用して誘導起電力の振幅V0\n",
        "(V)を磁場H(Oe)に対してプロットしたグラフを作成せよ。"
      ]
    },
    {
      "cell_type": "markdown",
      "metadata": {
        "id": "oR3q5l-6hy3T",
        "colab_type": "text"
      },
      "source": [
        "## 回答"
      ]
    },
    {
      "cell_type": "code",
      "metadata": {
        "id": "OW8KMgZyoEKp",
        "colab_type": "code",
        "outputId": "45cdb46a-18bf-4368-c522-af6f6d1bab38",
        "colab": {
          "base_uri": "https://localhost:8080/",
          "height": 35
        }
      },
      "source": [
        "import numpy as np\n",
        "import matplotlib.pyplot as plt\n",
        "from google.colab import drive\n",
        "drive.mount('/content/drive')\n",
        "\n",
        "#%matplotlib inline\n",
        "#%config InlineBackend.figure_format = 'retina'\n",
        "\n",
        "data_H, data_T, data_V = np.loadtxt(\"/content/drive/My Drive/Colab Notebooks/Data_Magnetism/Ni/M-H_Ni_300K.txt\", skiprows=1, unpack=True)"
      ],
      "execution_count": 0,
      "outputs": [
        {
          "output_type": "stream",
          "text": [
            "Drive already mounted at /content/drive; to attempt to forcibly remount, call drive.mount(\"/content/drive\", force_remount=True).\n"
          ],
          "name": "stdout"
        }
      ]
    },
    {
      "cell_type": "code",
      "metadata": {
        "id": "H92N4MbOv8I4",
        "colab_type": "code",
        "outputId": "789057c8-fcb8-4799-9d54-fed47d03e836",
        "colab": {
          "base_uri": "https://localhost:8080/",
          "height": 409
        }
      },
      "source": [
        "fig = plt.figure(figsize=(4,6))\n",
        "ax = fig.add_subplot(111)\n",
        "ax.plot(data_H,data_V, \"o-\", color=\"k\", label=\"H-V\")\n",
        "ax.set_xlim(-5000,5000)\n",
        "ax.set_ylim(-0.04,0.04)\n",
        "ax.set_xlabel(\"H (Oe)\")\n",
        "ax.set_ylabel(\"V_0 (V)\")\n",
        "ax.legend(loc=\"upper left\")"
      ],
      "execution_count": 0,
      "outputs": [
        {
          "output_type": "execute_result",
          "data": {
            "text/plain": [
              "<matplotlib.legend.Legend at 0x7f947364ce80>"
            ]
          },
          "metadata": {
            "tags": []
          },
          "execution_count": 12
        },
        {
          "output_type": "display_data",
          "data": {
            "image/png": "[encoded data removed]",
            "text/plain": [
              "<Figure size 288x432 with 1 Axes>"
            ]
          },
          "metadata": {
            "tags": [],
            "needs_background": "light"
          }
        }
      ]
    },
    {
      "cell_type": "markdown",
      "metadata": {
        "id": "fidVnXQ4gR8T",
        "colab_type": "text"
      },
      "source": [
        "#問題（２）\n",
        "磁場の印可により飽和する誘導起電力の振幅V_0(V)を見積もり、既知の Niの飽和磁化M_0の値を用いて磁気双極子モーメントmと振幅V0の比例係数αを求めよ。 Niの飽和磁化M_0の値は室温(298 K)で55.07 emu/g（質量磁化）であり、使用した試料の質量は0.2704 gとする。"
      ]
    },
    {
      "cell_type": "markdown",
      "metadata": {
        "id": "OAebY-Jrh2uT",
        "colab_type": "text"
      },
      "source": [
        "## 回答\n",
        "問題（1）の結果から、V = 0.0351, -0.03533まで振れており、H = 約2000, -2000(Oe)付近から漸近しているため、この二つの値の絶対値の平均を取った V = 0.03522をV<sub>0</sub>として計算する。  \n",
        "m<sub>CGS</sub> = m<sub>si</sub> / (4π e-10) = μ<sub>0</sub>MV / (4π e-10)  \n",
        "また\n",
        "α = m<sub>CGS</sub>/V<sub>0</sub>  \n"
      ]
    },
    {
      "cell_type": "code",
      "metadata": {
        "id": "LjhaPCVzFltd",
        "colab_type": "code",
        "outputId": "e40010f5-7abd-46fe-a2f5-4bc37c1d1f04",
        "colab": {
          "base_uri": "https://localhost:8080/",
          "height": 52
        }
      },
      "source": [
        "mu_0 = 1.256637 * 10**-6 # 磁気定数\n",
        "M = 55.07 # 質量磁化 55.07 emu/g\n",
        "mass_nickel = 0.2704 # 試料の質量0.2704 g\n",
        "\n",
        "m_si = mu_0 * M * mass_nickel # si単位系での磁化\n",
        "m_cgs = m_si/(4*np.pi*10**-10) #cgs単位系での磁化\n",
        "alpha_experiment = m_cgs / 0.03522 # V_0の実験結果から取った値\n",
        "\n",
        "print(\"m_cgs =\",m_cgs)\n",
        "print(\"α =\", alpha_experiment)"
      ],
      "execution_count": 0,
      "outputs": [
        {
          "output_type": "stream",
          "text": [
            "m_cgs = 14890.92727199519\n",
            "α = 422797.4807494375\n"
          ],
          "name": "stdout"
        }
      ]
    },
    {
      "cell_type": "markdown",
      "metadata": {
        "id": "gm23RLe-IX_u",
        "colab_type": "text"
      },
      "source": [
        "\n",
        "\n",
        "理論値からの算出では  \n",
        "V<sub>0</sub> = 3m<sub>si</sub>aωNS / 4piR<sup>2</sup>  \n",
        "S = 95 mm<sup>2</sup>, N = 14500 turn * 4個, R = 19.5 mm, a = 2.5 mm, ω = 2πf, f = 10Hz, θ = 42°, f(θ) = 1.18, m<sub>si</sub> = 4π * 10<sup>-10</sup>m<sub>CGS</sub>を代入して、 "
      ]
    },
    {
      "cell_type": "code",
      "metadata": {
        "id": "XvRmORFDzUbZ",
        "colab_type": "code",
        "outputId": "7742ee31-efa5-4ddc-b76d-6034732f819d",
        "colab": {
          "base_uri": "https://localhost:8080/",
          "height": 52
        }
      },
      "source": [
        "a = 2.5 # 2.5mm\n",
        "f = 10 # 10Hz\n",
        "omega = 2 * np.pi * f\n",
        "N = 14500 * 4 # 14500turn * 4個\n",
        "S = 95 # 95mm**2\n",
        "f_theta = 1.18\n",
        "R = 19.5 # 19.5mm\n",
        "\n",
        "V_0 = ((3 * m_si * a * omega * N * S)/(4 * np.pi * R ** 4)) * f_theta\n",
        "theoretical_alpha = m_cgs/V_0\n",
        "\n",
        "print(\"V_0 =\", V_0)\n",
        "print(\"α =\", theoretical_alpha)"
      ],
      "execution_count": 0,
      "outputs": [
        {
          "output_type": "stream",
          "text": [
            "V_0 = 0.03155426256299886\n",
            "α = 471914.91933189967\n"
          ],
          "name": "stdout"
        }
      ]
    },
    {
      "cell_type": "markdown",
      "metadata": {
        "id": "xuR9fLka4ScR",
        "colab_type": "text"
      },
      "source": [
        "# 問題（3）\n",
        "~~今回の計算では合わなかった。~~  \n",
        "実験からはα = 4.227 e+5, 理論値ではα = 4.719 e+5である。無視できない誤差がある。\n",
        "# 問題（4）\n",
        "モル磁化 M( emu/mol )は測定から得られた各 Vから求める。  \n",
        "さきほど得たαの値に計測値Vを掛けて、試料のモル数で割る。"
      ]
    },
    {
      "cell_type": "code",
      "metadata": {
        "id": "EEMweZ7TGRL0",
        "colab_type": "code",
        "outputId": "df1bd567-20e9-48a3-f06b-c059eac8d8ed",
        "colab": {
          "base_uri": "https://localhost:8080/",
          "height": 417
        }
      },
      "source": [
        "nickel_mass_number = 58.6934 # ニッケルの質量数\n",
        "sample_mole = mass_nickel / nickel_mass_number # 試料のモル数\n",
        "\n",
        "molar_magnetization = (alpha_experiment / sample_mole) * data_V # 計測データVの全要素にαをかけてモルで割ることで求めている。\n",
        "\n",
        "fig = plt.figure(figsize=(4,6))\n",
        "ax = fig.add_subplot(111)\n",
        "ax.plot(data_H,molar_magnetization, \"o-\", color=\"k\", label=\"H-M\")\n",
        "ax.set_xlim(-5000,5000)\n",
        "ax.set_ylim(-3500000, +3500000)\n",
        "ax.set_xlabel(\"H (Oe)\")\n",
        "ax.set_ylabel(\"M (emu/mol)\")\n",
        "ax.legend(loc=\"upper left\")"
      ],
      "execution_count": 0,
      "outputs": [
        {
          "output_type": "execute_result",
          "data": {
            "text/plain": [
              "<matplotlib.legend.Legend at 0x7f9473323438>"
            ]
          },
          "metadata": {
            "tags": []
          },
          "execution_count": 22
        },
        {
          "output_type": "display_data",
          "data": {
            "image/png": "[encoded data removed]",
            "text/plain": [
              "<Figure size 288x432 with 1 Axes>"
            ]
          },
          "metadata": {
            "tags": [],
            "needs_background": "light"
          }
        }
      ]
    },
    {
      "cell_type": "markdown",
      "metadata": {
        "id": "pNbj3_I-W6MO",
        "colab_type": "text"
      },
      "source": [
        "#問題（5）\n",
        "Niの１原子当たりの飽和磁化M<sub>0</sub>はボーア磁子μ<sub>B</sub>を単位にした場合、どのような値になるか求めよ。\n",
        "(μ<sub>B</sub>= 9.27×10−21 (emu)であり磁化と同じ単位である。)"
      ]
    }
  ]
}