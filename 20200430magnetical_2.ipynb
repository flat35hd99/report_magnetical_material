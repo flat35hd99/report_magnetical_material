{
  "nbformat": 4,
  "nbformat_minor": 0,
  "metadata": {
    "colab": {
      "name": "20200430magnetical_2.ipynb",
      "provenance": [],
      "authorship_tag": "ABX9TyMCaM+fTXAGyN5HKT036bdM",
      "include_colab_link": true
    },
    "kernelspec": {
      "name": "python3",
      "display_name": "Python 3"
    }
  },
  "cells": [
    {
      "cell_type": "markdown",
      "metadata": {
        "id": "view-in-github",
        "colab_type": "text"
      },
      "source": [
        "<a href=\"https://colab.research.google.com/github/flat35hd99/report_magnetical_material/blob/master/20200430magnetical_2.ipynb\" target=\"_parent\"><img src=\"https://colab.research.google.com/assets/colab-badge.svg\" alt=\"Open In Colab\"/></a>"
      ]
    },
    {
      "cell_type": "markdown",
      "metadata": {
        "id": "Yu_i0OA5XV9K",
        "colab_type": "text"
      },
      "source": [
        "#問題（1）\n",
        "室温におけるNiの磁化の磁場依存性の測定データを使用して誘導起電力の振幅V0\n",
        "(V)を磁場H(Oe)に対してプロットしたグラフを作成せよ。"
      ]
    },
    {
      "cell_type": "markdown",
      "metadata": {
        "id": "oR3q5l-6hy3T",
        "colab_type": "text"
      },
      "source": [
        "## 回答"
      ]
    },
    {
      "cell_type": "code",
      "metadata": {
        "id": "OW8KMgZyoEKp",
        "colab_type": "code",
        "outputId": "6d967e13-1609-4720-a771-9580c8f8946f",
        "colab": {
          "base_uri": "https://localhost:8080/",
          "height": 124
        }
      },
      "source": [
        "import numpy as np\n",
        "import matplotlib.pyplot as plt\n",
        "from google.colab import drive\n",
        "drive.mount('/content/drive')\n",
        "\n",
        "#%matplotlib inline\n",
        "#%config InlineBackend.figure_format = 'retina'\n",
        "\n",
        "data_H, data_T, data_V = np.loadtxt(\"/content/drive/My Drive/Colab Notebooks/Data_Magnetism/Ni/M-H_Ni_300K.txt\", skiprows=1, unpack=True)"
      ],
      "execution_count": 1,
      "outputs": [
        {
          "output_type": "stream",
          "text": [
            "Go to this URL in a browser: https://accounts.google.com/o/oauth2/auth?client_id=947318989803-6bn6qk8qdgf4n4g3pfee6491hc0brc4i.apps.googleusercontent.com&redirect_uri=urn%3aietf%3awg%3aoauth%3a2.0%3aoob&response_type=code&scope=email%20https%3a%2f%2fwww.googleapis.com%2fauth%2fdocs.test%20https%3a%2f%2fwww.googleapis.com%2fauth%2fdrive%20https%3a%2f%2fwww.googleapis.com%2fauth%2fdrive.photos.readonly%20https%3a%2f%2fwww.googleapis.com%2fauth%2fpeopleapi.readonly\n",
            "\n",
            "Enter your authorization code:\n",
            "··········\n",
            "Mounted at /content/drive\n"
          ],
          "name": "stdout"
        }
      ]
    },
    {
      "cell_type": "code",
      "metadata": {
        "id": "H92N4MbOv8I4",
        "colab_type": "code",
        "outputId": "153892d0-ed61-4d6d-aec7-00e38302183f",
        "colab": {
          "base_uri": "https://localhost:8080/",
          "height": 409
        }
      },
      "source": [
        "fig = plt.figure(figsize=(4,6))\n",
        "ax = fig.add_subplot(111)\n",
        "ax.plot(data_H,data_V, \"o-\", color=\"k\", label=\"H-V\")\n",
        "ax.set_xlim(-5000,5000)\n",
        "ax.set_ylim(-0.04,0.04)\n",
        "ax.set_xlabel(\"H (Oe)\")\n",
        "ax.set_ylabel(\"V_0 (V)\")\n",
        "ax.legend(loc=\"upper left\")"
      ],
      "execution_count": 2,
      "outputs": [
        {
          "output_type": "execute_result",
          "data": {
            "text/plain": [
              "<matplotlib.legend.Legend at 0x7fb4f214fd30>"
            ]
          },
          "metadata": {
            "tags": []
          },
          "execution_count": 2
        },
        {
          "output_type": "display_data",
          "data": {
            "image/png": "[encoded data removed]",
            "text/plain": [
              "<Figure size 288x432 with 1 Axes>"
            ]
          },
          "metadata": {
            "tags": [],
            "needs_background": "light"
          }
        }
      ]
    },
    {
      "cell_type": "markdown",
      "metadata": {
        "id": "fidVnXQ4gR8T",
        "colab_type": "text"
      },
      "source": [
        "#問題（２）\n",
        "磁場の印可により飽和する誘導起電力の振幅V_0(V)を見積もり、既知の Niの飽和磁化M_0の値を用いて磁気双極子モーメントmと振幅V0の比例係数αを求めよ。 Niの飽和磁化M_0の値は室温(298 K)で55.07 emu/g（質量磁化）であり、使用した試料の質量は0.2704 gとする。"
      ]
    },
    {
      "cell_type": "markdown",
      "metadata": {
        "id": "OAebY-Jrh2uT",
        "colab_type": "text"
      },
      "source": [
        "## 回答\n",
        "問題（1）の結果から、V = 0.0351, -0.03533まで振れており、H = 約2000, -2000(Oe)付近から漸近しているため、この二つの値の絶対値の平均を取った V = 0.03522をV<sub>0</sub>として計算する。  \n",
        "m<sub>CGS</sub> = m<sub>si</sub> / (4π e-10) = μ<sub>0</sub>MV / (4π e-10)  \n",
        "また\n",
        "α = m<sub>CGS</sub>/V<sub>0</sub>  \n"
      ]
    },
    {
      "cell_type": "code",
      "metadata": {
        "id": "LjhaPCVzFltd",
        "colab_type": "code",
        "outputId": "ece7d3bc-682f-4623-f6cd-769bcd4d9b3f",
        "colab": {
          "base_uri": "https://localhost:8080/",
          "height": 52
        }
      },
      "source": [
        "mu_0 = 1 # 磁気定数\n",
        "M = 55.07 # 質量磁化 55.07 emu/g\n",
        "mass_nickel = 0.2704 # 試料の質量0.2704 g\n",
        "\n",
        "m_cgs = mu_0 * M * mass_nickel # [emu] :cgs単位系での磁化 \n",
        "m_si = m_cgs * 4 * np.pi * 10 ** -10 # si単位系での磁化\n",
        "\n",
        "alpha_experiment = m_cgs / 0.03522 # V_0の実験結果から取った値\n",
        "\n",
        "print(\"m_cgs =\",m_cgs)\n",
        "print(\"α =\", alpha_experiment)"
      ],
      "execution_count": 3,
      "outputs": [
        {
          "output_type": "stream",
          "text": [
            "m_cgs = 14.890927999999999\n",
            "α = 422.79750141964786\n"
          ],
          "name": "stdout"
        }
      ]
    },
    {
      "cell_type": "markdown",
      "metadata": {
        "id": "gm23RLe-IX_u",
        "colab_type": "text"
      },
      "source": [
        "\n",
        "\n",
        "理論値からの算出では  \n",
        "V<sub>0</sub> = 3m<sub>si</sub>aωNS / 4piR<sup>2</sup>  \n",
        "S = 95 mm<sup>2</sup>, N = 14500 turn * 4個, R = 19.5 mm, a = 2.5 mm, ω = 2πf, f = 10Hz, θ = 42°, f(θ) = 1.18, m<sub>si</sub> = 4π * 10<sup>-10</sup>m<sub>CGS</sub>を代入して、 "
      ]
    },
    {
      "cell_type": "code",
      "metadata": {
        "id": "XvRmORFDzUbZ",
        "colab_type": "code",
        "outputId": "9bcd5a41-9995-46f3-db5d-7e6cb57dcad4",
        "colab": {
          "base_uri": "https://localhost:8080/",
          "height": 52
        }
      },
      "source": [
        "a = 2.5 * 10**-3 # 2.5 mm = 2.5e-3 m\n",
        "f = 10 # 10Hz\n",
        "omega = 2 * np.pi * f\n",
        "N = 14500 * 4 # 14500turn * 4個\n",
        "S = 95 * 10 ** -6 # 95 mm**2 = 95e-6 m**2\n",
        "f_theta = 1.18\n",
        "R = 19.5 * 10 ** -3 # 19.5mm = 19.5e-3 m\n",
        "\n",
        "V_0 = ((3 * m_si * a * omega * N * S)/(4 * np.pi * R ** 4)) * f_theta\n",
        "theoretical_alpha = m_cgs/V_0\n",
        "\n",
        "print(\"V_0 =\", V_0)\n",
        "print(\"α =\", theoretical_alpha)"
      ],
      "execution_count": 4,
      "outputs": [
        {
          "output_type": "stream",
          "text": [
            "V_0 = 0.03155426410566\n",
            "α = 471.91491933189974\n"
          ],
          "name": "stdout"
        }
      ]
    },
    {
      "cell_type": "markdown",
      "metadata": {
        "id": "xuR9fLka4ScR",
        "colab_type": "text"
      },
      "source": [
        "# 問題（3）\n",
        "計算で求めた比例係数αと値比較して互いに近い値であるか確認せよ。\n",
        "(以後の実験では標準試料Niの磁化測定で決定した比例係数αとを用いるので重要な作業である。)\n",
        "## 回答\n",
        "~~今回の計算では合わなかった。~~  \n",
        "実験結果から求めた値はα = 4.228 e+2, 理論値ではα = 4.719 e+2である。今後の実験ではこの実験器具のα = 4.228 e+2として計算していく。（これを較正と呼ぶ。）\n",
        "# 問題（4）\n",
        "室温におけるNiの磁化の磁場依存性の測定データを使用してモル磁化M (emu/mol)を磁場H (Oe)に対してプロットしたグラフを作成せよ。(Niの式量は58.6934 g/molである。)\n",
        "## 回答\n",
        "モル磁化 M( emu/mol )は測定から得られた各 Vから求める。  \n",
        "さきほど得たαの値に計測値Vを掛けて、試料のモル数で割る。"
      ]
    },
    {
      "cell_type": "code",
      "metadata": {
        "id": "EEMweZ7TGRL0",
        "colab_type": "code",
        "outputId": "f2d3b36e-cb13-4be7-fd2a-5908980a477a",
        "colab": {
          "base_uri": "https://localhost:8080/",
          "height": 457
        }
      },
      "source": [
        "nickel_mass_number = 58.6934 # ニッケルの質量数\n",
        "sample_mole = mass_nickel / nickel_mass_number # [mol] 試料のモル数\n",
        "alpha_experiment = 4.228 * 10 ** 2\n",
        "\n",
        "molar_magnetization = (alpha_experiment / sample_mole) * data_V # 計測データVの全要素にαをかけてモルで割ることで求めている。\n",
        "molar_magnetization_maximum = np.max(molar_magnetization)\n",
        "molar_magnetization_minimum = np.min(molar_magnetization)\n",
        "molar_magnetization_average_of_absolute_value = (abs(molar_magnetization_maximum) + abs(molar_magnetization_minimum))/2\n",
        "\n",
        "print('maximum =',molar_magnetization_maximum)\n",
        "print('minimum =', molar_magnetization_minimum)\n",
        "print('average of absolute value =',molar_magnetization_average_of_absolute_value)\n",
        "\n",
        "fig = plt.figure(figsize=(4,6))\n",
        "ax = fig.add_subplot(111)\n",
        "ax.plot(data_H,molar_magnetization, \"o-\", color=\"k\", label=\"H-M\")\n",
        "ax.set_xlim(-5000,5000)\n",
        "ax.set_ylim(-3500, +3500)\n",
        "ax.set_xlabel(\"H (Oe)\")\n",
        "ax.set_ylabel(\"M (emu/mol)\")\n",
        "ax.legend(loc=\"upper left\")"
      ],
      "execution_count": 7,
      "outputs": [
        {
          "output_type": "stream",
          "text": [
            "maximum = 3229.511432724853\n",
            "minimum = -3246.948408349111\n",
            "average of absolute value = 3238.229920536982\n"
          ],
          "name": "stdout"
        },
        {
          "output_type": "execute_result",
          "data": {
            "text/plain": [
              "<matplotlib.legend.Legend at 0x7fb4f1b59fd0>"
            ]
          },
          "metadata": {
            "tags": []
          },
          "execution_count": 7
        },
        {
          "output_type": "display_data",
          "data": {
            "image/png": "[encoded data removed]",
            "text/plain": [
              "<Figure size 288x432 with 1 Axes>"
            ]
          },
          "metadata": {
            "tags": [],
            "needs_background": "light"
          }
        }
      ]
    },
    {
      "cell_type": "markdown",
      "metadata": {
        "id": "pNbj3_I-W6MO",
        "colab_type": "text"
      },
      "source": [
        "#問題（5）\n",
        "Niの１原子当たりの飽和磁化M<sub>0</sub>はボーア磁子μ<sub>B</sub>を単位にした場合、どのような値になるか求めよ。\n",
        "(μ<sub>B</sub>= 9.27×10−21 (emu)であり磁化と同じ単位である。)\n",
        "## 回答\n",
        "結果は下記より 1.68×10<sup>-4</sup>\n"
      ]
    },
    {
      "cell_type": "code",
      "metadata": {
        "id": "zhpl0MR60g4f",
        "colab_type": "code",
        "outputId": "1ff69094-a8b4-4363-e5ba-9f428ff540ff",
        "colab": {
          "base_uri": "https://localhost:8080/",
          "height": 35
        }
      },
      "source": [
        "avogadro_constant = 6.02214 * 10**23 # アボガドロ数\n",
        "bohr_magneton = 9.27*10**-21 # [emu] ボーア磁子\n",
        "magnetization_per_atom = (M * 1 / 58.6934)/avogadro_constant # [emu/atom(?)]\n",
        "magnetization_per_atom_per_bohr_magneton = magnetization_per_atom / bohr_magneton # [/atom(?)]\n",
        "\n",
        "print('result =',magnetization_per_atom_per_bohr_magneton)"
      ],
      "execution_count": 8,
      "outputs": [
        {
          "output_type": "stream",
          "text": [
            "result = 0.0001680719452715714\n"
          ],
          "name": "stdout"
        }
      ]
    },
    {
      "cell_type": "markdown",
      "metadata": {
        "id": "wQAOWmUw3vJV",
        "colab_type": "text"
      },
      "source": [
        "# 問題（6）\n",
        "室温におけるNiの磁化の磁場依存性において履歴現象(ヒステリシス)が見られるが、履歴現象(ヒステリシス)について強磁性と関係させて説明せよ。\n",
        "## 回答\n",
        "\n"
      ]
    }
  ]
}